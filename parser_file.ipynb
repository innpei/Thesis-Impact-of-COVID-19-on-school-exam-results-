{
 "cells": [
  {
   "cell_type": "code",
   "execution_count": 86,
   "metadata": {},
   "outputs": [],
   "source": [
    "states = {'Alabama','Alaska','Arizona','Arkansas','California','Colorado','Connecticut','Delaware','District of Columbia',\n",
    "          'Florida','Georgia','Hawaii',\n",
    "          'Idaho','Illinois','Indiana','Iowa','Kansas', 'Kentucky','Louisiana','Maine','Maryland','Massachusetts','Michigan',\n",
    "          'Minnesota','Mississippi','Missouri','Montana','Nebraska','Nevada','New Hampshire', 'New Jersey', 'New Mexico', 'New York',\n",
    "          'North Carolina', 'North Dakota','Ohio', 'Oklahoma','Oregon','Pennsylvania','Rhode Island','South Dakota','South Carolina',\n",
    "          'Tennessee', 'Texas', 'Utah', 'Vermont', 'Virginia','Washington', 'West Virginia', 'Wisconsin', 'Wyoming'}\n",
    "years = [2017, 2018, 2019, 2020, 2021]\n",
    "\n",
    "#2020'South Carolina', 2020'Tennessee',"
   ]
  },
  {
   "cell_type": "markdown",
   "metadata": {},
   "source": [
    "Download PDF"
   ]
  },
  {
   "cell_type": "code",
   "execution_count": 2,
   "metadata": {},
   "outputs": [],
   "source": [
    "import urllib.request\n",
    "from tqdm import tqdm\n",
    "import warnings\n",
    "warnings.filterwarnings(\"ignore\")"
   ]
  },
  {
   "cell_type": "code",
   "execution_count": 4,
   "metadata": {},
   "outputs": [
    {
     "name": "stderr",
     "output_type": "stream",
     "text": [
      "100%|██████████| 51/51 [06:10<00:00,  7.27s/it]\n"
     ]
    }
   ],
   "source": [
    "import requests\n",
    "import shutil\n",
    "\n",
    "for state in tqdm(states):\n",
    "    for year in years:\n",
    "        state_rename = state.lower().replace(' ', '-')\n",
    "        if state == 'District of Columbia':\n",
    "            state_rename = 'district-columbia'\n",
    "        input_name = str(year)+'-'+state_rename+'-sat-suite-assessments-annual-report.pdf'\n",
    "        output_name = 'US_datasets/'+str(year)+'-'+state_rename+'-sat-suite-of-assessments-annual-report.pdf'\n",
    "        url = 'https://reports.collegeboard.org/pdf/'+ input_name\n",
    "\n",
    "        r = requests.get(url, auth=('usrname', 'password'), verify=False,stream=True)\n",
    "        r.raw.decode_content = True\n",
    "        with open(output_name, 'wb') as f:\n",
    "                shutil.copyfileobj(r.raw, f)"
   ]
  },
  {
   "cell_type": "markdown",
   "metadata": {},
   "source": [
    "Parse PDF"
   ]
  },
  {
   "cell_type": "code",
   "execution_count": 5,
   "metadata": {},
   "outputs": [],
   "source": [
    "import pdfplumber\n",
    "import pandas as pd"
   ]
  },
  {
   "cell_type": "code",
   "execution_count": 6,
   "metadata": {},
   "outputs": [],
   "source": [
    "def delete_comma(word):\n",
    "    new_word = ''\n",
    "    for letter in word:\n",
    "        if letter != ',':\n",
    "            new_word += letter\n",
    "    return new_word"
   ]
  },
  {
   "cell_type": "code",
   "execution_count": 7,
   "metadata": {},
   "outputs": [],
   "source": [
    "def number_position(line_arr):\n",
    "    if len(line_arr) == 8:\n",
    "        return line_arr[4], line_arr[6]\n",
    "    \n",
    "    elif len(line_arr) == 5:\n",
    "        return line_arr[3], line_arr[4]\n",
    "    \n",
    "    elif len(line_arr) == 6:\n",
    "        if line_arr[2][-1] == '%':\n",
    "            return line_arr[4], line_arr[5]\n",
    "        elif line_arr[4][-1] == '%':\n",
    "            return line_arr[3], line_arr[5]\n",
    "        else:\n",
    "            return line_arr[3], line_arr[4]\n",
    "    \n",
    "    elif len(line_arr) == 7:\n",
    "        if line_arr[2][-1] == '%' and line_arr[5][-1] == '%':\n",
    "            return line_arr[4], line_arr[6]\n",
    "        elif line_arr[2][-1] == '%' and line_arr[6][-1] == '%':\n",
    "            return line_arr[4], line_arr[5]\n",
    "        else:\n",
    "            return line_arr[3], line_arr[5]"
   ]
  },
  {
   "cell_type": "code",
   "execution_count": 57,
   "metadata": {},
   "outputs": [],
   "source": [
    "def total_scores(pdf):\n",
    "    #total scores and perc\n",
    "    page = pdf.pages[4]\n",
    "#     page = pdf.pages[5]\n",
    "    text = page.extract_text()\n",
    "    text_arr = text.splitlines()\n",
    "#     print(text_arr)\n",
    "\n",
    "    total_score = []\n",
    "    total_score_perc = []\n",
    "    erw = []\n",
    "    erw_perc = []\n",
    "    math = []\n",
    "    math_perc = []\n",
    "\n",
    "    page5 = pdf.pages[5]\n",
    "    text5 = page5.extract_text().splitlines()\n",
    "#     print(text5)\n",
    "    all_ppl = int(delete_comma(text5[8].split()[2]))\n",
    "#     page3 = pdf.pages[3]\n",
    "#     text3 = page3.extract_text().splitlines()\n",
    "#     all_ppl = int(delete_comma(text3[7].split()[1]))\n",
    "    \n",
    "    for i in range(7,12):\n",
    "        line_arr = text_arr[i].split()\n",
    "        tot_count = line_arr[1]\n",
    "        if ',' in tot_count:\n",
    "            tot_count = delete_comma(tot_count)\n",
    "        total_score.append(int(tot_count))\n",
    "        \n",
    "        erw_count, math_count = number_position(line_arr)\n",
    "        if ',' in erw_count:\n",
    "            erw_count = delete_comma(erw_count)\n",
    "        erw.append(int(erw_count))\n",
    " \n",
    "        if ',' in math_count:\n",
    "            math_count = delete_comma(math_count)\n",
    "        math.append(int(math_count))\n",
    "    \n",
    "        total_score_perc.append(round(int(tot_count)/all_ppl*100))\n",
    "        erw_perc.append(round(int(erw_count)/all_ppl*100))\n",
    "        math_perc.append(round(int(math_count)/all_ppl*100))\n",
    "        \n",
    "    \n",
    "    total_score.append(max(all_ppl - sum(total_score),0))\n",
    "    erw.append(max(all_ppl - sum(erw),0))\n",
    "    math.append(max(all_ppl - sum(math),0))\n",
    "    total_score_perc.append(max(100-sum(total_score_perc),0))\n",
    "    erw_perc.append(max(100-sum(erw_perc),0))\n",
    "    math_perc.append(max(100-sum(math_perc),0))\n",
    "    \n",
    "    return total_score, total_score_perc, erw, erw_perc, math, math_perc"
   ]
  },
  {
   "cell_type": "code",
   "execution_count": 25,
   "metadata": {},
   "outputs": [],
   "source": [
    "def total_scores2017(pdf):\n",
    "    #total scores and perc\n",
    "#     page = pdf.pages[4]\n",
    "    page = pdf.pages[5]\n",
    "    text = page.extract_text()\n",
    "    text_arr = text.splitlines()\n",
    "#     print(text_arr)\n",
    "\n",
    "    total_score = []\n",
    "    total_score_perc = []\n",
    "    erw = []\n",
    "    erw_perc = []\n",
    "    math = []\n",
    "    math_perc = []\n",
    "\n",
    "    page3 = pdf.pages[3]\n",
    "    text3 = page3.extract_text().splitlines()\n",
    "#     print(text5)\n",
    "    all_ppl = int(delete_comma(text3[7].split()[1]))\n",
    "    \n",
    "    for i in range(7,12):\n",
    "        line_arr = text_arr[i].split()\n",
    "        tot_count = line_arr[1]\n",
    "        if ',' in tot_count:\n",
    "            tot_count = delete_comma(tot_count)\n",
    "        total_score.append(int(tot_count))\n",
    "        \n",
    "        erw_count, math_count = number_position(line_arr)\n",
    "        if ',' in erw_count:\n",
    "            erw_count = delete_comma(erw_count)\n",
    "        erw.append(int(erw_count))\n",
    " \n",
    "        if ',' in math_count:\n",
    "            math_count = delete_comma(math_count)\n",
    "        math.append(int(math_count))\n",
    "    \n",
    "    total_score.append(max(all_ppl - sum(total_score),0))\n",
    "    erw.append(max(all_ppl - sum(erw),0))\n",
    "    math.append(max(all_ppl - sum(math),0))\n",
    "    \n",
    "    all_ppl = sum(total_score)\n",
    "    for i in range(len(total_score)):\n",
    "        total_score_perc.append(round(int(total_score[i])/all_ppl*100))\n",
    "        erw_perc.append(round(int(erw[i])/all_ppl*100))\n",
    "        math_perc.append(round(int(math[i])/all_ppl*100))\n",
    "    \n",
    "    return total_score, total_score_perc, erw, erw_perc, math, math_perc"
   ]
  },
  {
   "cell_type": "code",
   "execution_count": 9,
   "metadata": {},
   "outputs": [],
   "source": [
    "def other_scores(pdf):\n",
    "    #total scores and perc\n",
    "    page = pdf.pages[5]\n",
    "    text = page.extract_text().splitlines()\n",
    "    fem_total = int(delete_comma(text[8].split()[3]))\n",
    "    male_total = int(delete_comma(text[8].split()[4])) \n",
    "\n",
    "    ftotal = []\n",
    "    fperc = []\n",
    "    ferw = []\n",
    "    ferw_perc = []\n",
    "    fmath = []\n",
    "    fmath_perc = []\n",
    "    \n",
    "    mtotal = []\n",
    "    mperc = []\n",
    "    merw = []\n",
    "    merw_perc = []\n",
    "    mmath = []\n",
    "    mmath_perc = []\n",
    "    \n",
    "    for i in range(10,16):\n",
    "        line_arr = text[i].split()\n",
    "        fperc_item = int(line_arr[2][:-1])\n",
    "        mperc_item = int(line_arr[3][:-1])\n",
    "        fperc.append(fperc_item)\n",
    "        mperc.append(mperc_item)\n",
    "        ftotal.append(round(fem_total*fperc_item*0.01))\n",
    "        mtotal.append(round(male_total*mperc_item*0.01))\n",
    "    \n",
    "    for i in range(17,23):\n",
    "        line_arr = text[i].split()\n",
    "        ferw_perc_item = int(line_arr[2][:-1])\n",
    "        merw_perc_item = int(line_arr[3][:-1])\n",
    "        ferw_perc.append(ferw_perc_item)\n",
    "        merw_perc.append(merw_perc_item)\n",
    "        ferw.append(round(fem_total*ferw_perc_item*0.01))\n",
    "        merw.append(round(male_total*merw_perc_item*0.01))       \n",
    "        \n",
    "    for i in range(24,30):\n",
    "        line_arr = text[i].split()\n",
    "        fmath_perc_item = int(line_arr[3][:-1])\n",
    "        mmath_perc_item = int(line_arr[4][:-1])\n",
    "        fmath_perc.append(fmath_perc_item)\n",
    "        mmath_perc.append(mmath_perc_item)\n",
    "        fmath.append(round(fem_total*fmath_perc_item*0.01))\n",
    "        mmath.append(round(male_total*mmath_perc_item*0.01))  \n",
    "        \n",
    "    return ftotal, fperc, ferw, ferw_perc, fmath, fmath_perc,mtotal, mperc, merw, merw_perc, mmath, mmath_perc"
   ]
  },
  {
   "cell_type": "code",
   "execution_count": 50,
   "metadata": {},
   "outputs": [],
   "source": [
    "parsed_df = {'state': [], 'year':[],\n",
    "            'tot_mean':[],'subject_mean':[],\n",
    "            'total_counts':[],'total_perc':[],'total_erw':[], 'total_erw_perc':[], 'total_math':[], 'total_math_perc':[],\n",
    "            'female_counts':[],'female_perc':[], 'female_erw':[], 'female_erw_perc':[], 'female_math':[], 'female_math_perc':[],\n",
    "            'male_counts':[],'male_perc':[], 'male_erw':[], 'male_erw_perc':[], 'male_math':[], 'male_math_perc':[]}"
   ]
  },
  {
   "cell_type": "code",
   "execution_count": 58,
   "metadata": {},
   "outputs": [],
   "source": [
    "def add_to_dict(year, state, pdf):\n",
    "    parsed_df['state'] += [state]*6\n",
    "    parsed_df['year'] += [year]*6\n",
    "    parsed_df['tot_mean'] += [1495,1295,1095,895,695,495]\n",
    "    parsed_df['subject_mean'] += [750,645,545,445,345,245]\n",
    "    \n",
    "    total_score, total_score_perc, erw, erw_perc, math, math_perc = total_scores(pdf)\n",
    "    parsed_df['total_counts'] += total_score\n",
    "    parsed_df['total_perc'] += total_score_perc\n",
    "    parsed_df['total_erw'] += erw\n",
    "    parsed_df['total_erw_perc'] += erw_perc\n",
    "    parsed_df['total_math'] += math\n",
    "    parsed_df['total_math_perc'] += math_perc\n",
    "    \n",
    "    ftotal, fperc, ferw, ferw_perc, fmath, fmath_perc,mtotal, mperc, merw, merw_perc, mmath, mmath_perc = other_scores(pdf)\n",
    "    parsed_df['female_counts'] += ftotal\n",
    "    parsed_df['female_perc'] += fperc\n",
    "    parsed_df['female_erw'] += ferw\n",
    "    parsed_df['female_erw_perc'] += ferw_perc\n",
    "    parsed_df['female_math'] += fmath\n",
    "    parsed_df['female_math_perc'] += fmath_perc\n",
    "    \n",
    "    parsed_df['male_counts'] += mtotal\n",
    "    parsed_df['male_perc'] += mperc\n",
    "    parsed_df['male_erw'] += merw\n",
    "    parsed_df['male_erw_perc'] += merw_perc\n",
    "    parsed_df['male_math'] += mmath\n",
    "    parsed_df['male_math_perc'] += mmath_perc\n",
    "\n",
    "#     parsed_df['female_counts'] += [0]*6\n",
    "#     parsed_df['female_perc'] += [0]*6\n",
    "#     parsed_df['female_erw'] += [0]*6\n",
    "#     parsed_df['female_erw_perc'] += [0]*6\n",
    "#     parsed_df['female_math'] += [0]*6\n",
    "#     parsed_df['female_math_perc'] += [0]*6\n",
    "    \n",
    "#     parsed_df['male_counts'] += [0]*6\n",
    "#     parsed_df['male_perc'] += [0]*6\n",
    "#     parsed_df['male_erw'] += [0]*6\n",
    "#     parsed_df['male_erw_perc'] += [0]*6\n",
    "#     parsed_df['male_math'] += [0]*6\n",
    "#     parsed_df['male_math_perc'] += [0]*6"
   ]
  },
  {
   "cell_type": "code",
   "execution_count": 29,
   "metadata": {},
   "outputs": [],
   "source": [
    "# parsed_df"
   ]
  },
  {
   "cell_type": "code",
   "execution_count": 75,
   "metadata": {},
   "outputs": [],
   "source": [
    "path = 'US_datasets/'+str(2021)+'-'+'alabama'+'-sat-suite-of-assessments-annual-report.pdf'\n",
    "pdf = pdfplumber.open(path)\n",
    "page = pdf.pages[3]\n",
    "text = page.extract_text()\n",
    "text_arr = text.splitlines()"
   ]
  },
  {
   "cell_type": "code",
   "execution_count": 78,
   "metadata": {},
   "outputs": [
    {
     "data": {
      "text/plain": [
       "['Male', '740', '43%', '1184', '595', '589', '69%', '86%', '71%', '12%']"
      ]
     },
     "execution_count": 78,
     "metadata": {},
     "output_type": "execute_result"
    }
   ],
   "source": [
    "text_arr[22].split()"
   ]
  },
  {
   "cell_type": "code",
   "execution_count": 79,
   "metadata": {},
   "outputs": [],
   "source": [
    "def get_mean(pdf, mean_df, year, state):\n",
    "    page = pdf.pages[3]\n",
    "    text = page.extract_text()\n",
    "    text_arr = text.splitlines() \n",
    "    tot_line = text_arr[7].split()\n",
    "    fem_line = text_arr[21].split()\n",
    "    male_line = text_arr[22].split()\n",
    "    \n",
    "    mean_df['states'].append(state)\n",
    "    mean_df['year'].append(year)\n",
    "    mean_df['tot_mean'].append(tot_line[2])\n",
    "    mean_df['erw_mean'].append(tot_line[3])\n",
    "    mean_df['math_mean'].append(tot_line[4])\n",
    "    mean_df['tot_fem'].append(fem_line[3])\n",
    "    mean_df['erw_fem'].append(fem_line[4])\n",
    "    mean_df['math_fem'].append(fem_line[5])\n",
    "    mean_df['tot_male'].append(male_line[3])\n",
    "    mean_df['erw_male'].append(male_line[4])\n",
    "    mean_df['math_male'].append(male_line[5])"
   ]
  },
  {
   "cell_type": "code",
   "execution_count": 87,
   "metadata": {},
   "outputs": [],
   "source": [
    "mean_df = {'states':[], 'year':[], 'tot_mean':[], 'erw_mean':[], 'math_mean':[],\n",
    "          'tot_fem':[], 'erw_fem':[], 'math_fem':[],\n",
    "          'tot_male':[], 'erw_male':[], 'math_male':[]}"
   ]
  },
  {
   "cell_type": "code",
   "execution_count": 88,
   "metadata": {},
   "outputs": [
    {
     "name": "stderr",
     "output_type": "stream",
     "text": [
      "\r",
      "  0%|          | 0/51 [00:00<?, ?it/s]"
     ]
    },
    {
     "name": "stdout",
     "output_type": "stream",
     "text": [
      "Ohio\n"
     ]
    },
    {
     "name": "stderr",
     "output_type": "stream",
     "text": [
      "\r",
      "  2%|▏         | 1/51 [00:03<02:54,  3.49s/it]"
     ]
    },
    {
     "name": "stdout",
     "output_type": "stream",
     "text": [
      "Delaware\n"
     ]
    },
    {
     "name": "stderr",
     "output_type": "stream",
     "text": [
      "\r",
      "  4%|▍         | 2/51 [00:07<02:56,  3.60s/it]"
     ]
    },
    {
     "name": "stdout",
     "output_type": "stream",
     "text": [
      "West Virginia\n"
     ]
    },
    {
     "name": "stderr",
     "output_type": "stream",
     "text": [
      "\r",
      "  6%|▌         | 3/51 [00:10<02:50,  3.55s/it]"
     ]
    },
    {
     "name": "stdout",
     "output_type": "stream",
     "text": [
      "New Jersey\n"
     ]
    },
    {
     "name": "stderr",
     "output_type": "stream",
     "text": [
      "\r",
      "  8%|▊         | 4/51 [00:14<02:50,  3.63s/it]"
     ]
    },
    {
     "name": "stdout",
     "output_type": "stream",
     "text": [
      "Maryland\n"
     ]
    },
    {
     "name": "stderr",
     "output_type": "stream",
     "text": [
      "\r",
      " 10%|▉         | 5/51 [00:18<02:44,  3.57s/it]"
     ]
    },
    {
     "name": "stdout",
     "output_type": "stream",
     "text": [
      "Massachusetts\n"
     ]
    },
    {
     "name": "stderr",
     "output_type": "stream",
     "text": [
      "\r",
      " 12%|█▏        | 6/51 [00:21<02:40,  3.57s/it]"
     ]
    },
    {
     "name": "stdout",
     "output_type": "stream",
     "text": [
      "Montana\n"
     ]
    },
    {
     "name": "stderr",
     "output_type": "stream",
     "text": [
      "\r",
      " 14%|█▎        | 7/51 [00:24<02:34,  3.50s/it]"
     ]
    },
    {
     "name": "stdout",
     "output_type": "stream",
     "text": [
      "Vermont\n"
     ]
    },
    {
     "name": "stderr",
     "output_type": "stream",
     "text": [
      "\r",
      " 16%|█▌        | 8/51 [00:28<02:29,  3.47s/it]"
     ]
    },
    {
     "name": "stdout",
     "output_type": "stream",
     "text": [
      "Mississippi\n"
     ]
    },
    {
     "name": "stderr",
     "output_type": "stream",
     "text": [
      "\r",
      " 18%|█▊        | 9/51 [00:31<02:23,  3.41s/it]"
     ]
    },
    {
     "name": "stdout",
     "output_type": "stream",
     "text": [
      "Florida\n"
     ]
    },
    {
     "name": "stderr",
     "output_type": "stream",
     "text": [
      "\r",
      " 20%|█▉        | 10/51 [00:35<02:20,  3.42s/it]"
     ]
    },
    {
     "name": "stdout",
     "output_type": "stream",
     "text": [
      "North Carolina\n"
     ]
    },
    {
     "name": "stderr",
     "output_type": "stream",
     "text": [
      "\r",
      " 22%|██▏       | 11/51 [00:38<02:18,  3.45s/it]"
     ]
    },
    {
     "name": "stdout",
     "output_type": "stream",
     "text": [
      "New Mexico\n"
     ]
    },
    {
     "name": "stderr",
     "output_type": "stream",
     "text": [
      "\r",
      " 24%|██▎       | 12/51 [00:42<02:15,  3.46s/it]"
     ]
    },
    {
     "name": "stdout",
     "output_type": "stream",
     "text": [
      "Arkansas\n"
     ]
    },
    {
     "name": "stderr",
     "output_type": "stream",
     "text": [
      "\r",
      " 25%|██▌       | 13/51 [00:45<02:09,  3.41s/it]"
     ]
    },
    {
     "name": "stdout",
     "output_type": "stream",
     "text": [
      "Maine\n"
     ]
    },
    {
     "name": "stderr",
     "output_type": "stream",
     "text": [
      "\r",
      " 27%|██▋       | 14/51 [00:48<02:06,  3.41s/it]"
     ]
    },
    {
     "name": "stdout",
     "output_type": "stream",
     "text": [
      "New Hampshire\n"
     ]
    },
    {
     "name": "stderr",
     "output_type": "stream",
     "text": [
      "\r",
      " 29%|██▉       | 15/51 [00:52<02:02,  3.40s/it]"
     ]
    },
    {
     "name": "stdout",
     "output_type": "stream",
     "text": [
      "District of Columbia\n"
     ]
    },
    {
     "name": "stderr",
     "output_type": "stream",
     "text": [
      "\r",
      " 31%|███▏      | 16/51 [00:55<02:01,  3.47s/it]"
     ]
    },
    {
     "name": "stdout",
     "output_type": "stream",
     "text": [
      "California\n"
     ]
    },
    {
     "name": "stderr",
     "output_type": "stream",
     "text": [
      "\r",
      " 33%|███▎      | 17/51 [00:59<01:57,  3.46s/it]"
     ]
    },
    {
     "name": "stdout",
     "output_type": "stream",
     "text": [
      "Washington\n"
     ]
    },
    {
     "name": "stderr",
     "output_type": "stream",
     "text": [
      "\r",
      " 35%|███▌      | 18/51 [01:02<01:53,  3.45s/it]"
     ]
    },
    {
     "name": "stdout",
     "output_type": "stream",
     "text": [
      "Alabama\n"
     ]
    },
    {
     "name": "stderr",
     "output_type": "stream",
     "text": [
      "\r",
      " 37%|███▋      | 19/51 [01:05<01:49,  3.42s/it]"
     ]
    },
    {
     "name": "stdout",
     "output_type": "stream",
     "text": [
      "Missouri\n"
     ]
    },
    {
     "name": "stderr",
     "output_type": "stream",
     "text": [
      "\r",
      " 39%|███▉      | 20/51 [01:09<01:44,  3.38s/it]"
     ]
    },
    {
     "name": "stdout",
     "output_type": "stream",
     "text": [
      "Idaho\n"
     ]
    },
    {
     "name": "stderr",
     "output_type": "stream",
     "text": [
      "\r",
      " 41%|████      | 21/51 [01:12<01:44,  3.47s/it]"
     ]
    },
    {
     "name": "stdout",
     "output_type": "stream",
     "text": [
      "Texas\n"
     ]
    },
    {
     "name": "stderr",
     "output_type": "stream",
     "text": [
      "\r",
      " 43%|████▎     | 22/51 [01:16<01:41,  3.49s/it]"
     ]
    },
    {
     "name": "stdout",
     "output_type": "stream",
     "text": [
      "Wyoming\n"
     ]
    },
    {
     "name": "stderr",
     "output_type": "stream",
     "text": [
      "\r",
      " 45%|████▌     | 23/51 [01:19<01:32,  3.30s/it]"
     ]
    },
    {
     "name": "stdout",
     "output_type": "stream",
     "text": [
      "Arizona\n"
     ]
    },
    {
     "name": "stderr",
     "output_type": "stream",
     "text": [
      "\r",
      " 47%|████▋     | 24/51 [01:22<01:30,  3.34s/it]"
     ]
    },
    {
     "name": "stdout",
     "output_type": "stream",
     "text": [
      "Georgia\n"
     ]
    },
    {
     "name": "stderr",
     "output_type": "stream",
     "text": [
      "\r",
      " 49%|████▉     | 25/51 [01:26<01:27,  3.37s/it]"
     ]
    },
    {
     "name": "stdout",
     "output_type": "stream",
     "text": [
      "Kentucky\n"
     ]
    },
    {
     "name": "stderr",
     "output_type": "stream",
     "text": [
      "\r",
      " 51%|█████     | 26/51 [01:29<01:25,  3.42s/it]"
     ]
    },
    {
     "name": "stdout",
     "output_type": "stream",
     "text": [
      "Minnesota\n"
     ]
    },
    {
     "name": "stderr",
     "output_type": "stream",
     "text": [
      "\r",
      " 53%|█████▎    | 27/51 [01:33<01:21,  3.38s/it]"
     ]
    },
    {
     "name": "stdout",
     "output_type": "stream",
     "text": [
      "Virginia\n"
     ]
    },
    {
     "name": "stderr",
     "output_type": "stream",
     "text": [
      "\r",
      " 55%|█████▍    | 28/51 [01:36<01:18,  3.40s/it]"
     ]
    },
    {
     "name": "stdout",
     "output_type": "stream",
     "text": [
      "Kansas\n"
     ]
    },
    {
     "name": "stderr",
     "output_type": "stream",
     "text": [
      "\r",
      " 57%|█████▋    | 29/51 [01:39<01:13,  3.36s/it]"
     ]
    },
    {
     "name": "stdout",
     "output_type": "stream",
     "text": [
      "Colorado\n"
     ]
    },
    {
     "name": "stderr",
     "output_type": "stream",
     "text": [
      "\r",
      " 59%|█████▉    | 30/51 [01:43<01:12,  3.43s/it]"
     ]
    },
    {
     "name": "stdout",
     "output_type": "stream",
     "text": [
      "Tennessee\n"
     ]
    },
    {
     "name": "stderr",
     "output_type": "stream",
     "text": [
      "\r",
      " 61%|██████    | 31/51 [01:46<01:08,  3.41s/it]"
     ]
    },
    {
     "name": "stdout",
     "output_type": "stream",
     "text": [
      "Nebraska\n"
     ]
    },
    {
     "name": "stderr",
     "output_type": "stream",
     "text": [
      "\r",
      " 63%|██████▎   | 32/51 [01:49<01:03,  3.35s/it]"
     ]
    },
    {
     "name": "stdout",
     "output_type": "stream",
     "text": [
      "Utah\n"
     ]
    },
    {
     "name": "stderr",
     "output_type": "stream",
     "text": [
      "\r",
      " 65%|██████▍   | 33/51 [01:53<00:59,  3.33s/it]"
     ]
    },
    {
     "name": "stdout",
     "output_type": "stream",
     "text": [
      "Oregon\n"
     ]
    },
    {
     "name": "stderr",
     "output_type": "stream",
     "text": [
      "\r",
      " 67%|██████▋   | 34/51 [01:56<00:58,  3.43s/it]"
     ]
    },
    {
     "name": "stdout",
     "output_type": "stream",
     "text": [
      "Illinois\n"
     ]
    },
    {
     "name": "stderr",
     "output_type": "stream",
     "text": [
      "\r",
      " 69%|██████▊   | 35/51 [02:00<00:55,  3.50s/it]"
     ]
    },
    {
     "name": "stdout",
     "output_type": "stream",
     "text": [
      "South Carolina\n"
     ]
    },
    {
     "name": "stderr",
     "output_type": "stream",
     "text": [
      "\r",
      " 71%|███████   | 36/51 [02:03<00:52,  3.48s/it]"
     ]
    },
    {
     "name": "stdout",
     "output_type": "stream",
     "text": [
      "Pennsylvania\n"
     ]
    },
    {
     "name": "stderr",
     "output_type": "stream",
     "text": [
      "\r",
      " 73%|███████▎  | 37/51 [02:07<00:48,  3.48s/it]"
     ]
    },
    {
     "name": "stdout",
     "output_type": "stream",
     "text": [
      "Rhode Island\n"
     ]
    },
    {
     "name": "stderr",
     "output_type": "stream",
     "text": [
      "\r",
      " 75%|███████▍  | 38/51 [02:10<00:45,  3.47s/it]"
     ]
    },
    {
     "name": "stdout",
     "output_type": "stream",
     "text": [
      "Indiana\n"
     ]
    },
    {
     "name": "stderr",
     "output_type": "stream",
     "text": [
      "\r",
      " 76%|███████▋  | 39/51 [02:14<00:41,  3.46s/it]"
     ]
    },
    {
     "name": "stdout",
     "output_type": "stream",
     "text": [
      "Louisiana\n"
     ]
    },
    {
     "name": "stderr",
     "output_type": "stream",
     "text": [
      "\r",
      " 78%|███████▊  | 40/51 [02:17<00:38,  3.47s/it]"
     ]
    },
    {
     "name": "stdout",
     "output_type": "stream",
     "text": [
      "Iowa\n"
     ]
    },
    {
     "name": "stderr",
     "output_type": "stream",
     "text": [
      "\r",
      " 80%|████████  | 41/51 [02:21<00:34,  3.40s/it]"
     ]
    },
    {
     "name": "stdout",
     "output_type": "stream",
     "text": [
      "Nevada\n"
     ]
    },
    {
     "name": "stderr",
     "output_type": "stream",
     "text": [
      "\r",
      " 82%|████████▏ | 42/51 [02:24<00:30,  3.39s/it]"
     ]
    },
    {
     "name": "stdout",
     "output_type": "stream",
     "text": [
      "South Dakota\n"
     ]
    },
    {
     "name": "stderr",
     "output_type": "stream",
     "text": [
      "\r",
      " 84%|████████▍ | 43/51 [02:27<00:26,  3.30s/it]"
     ]
    },
    {
     "name": "stdout",
     "output_type": "stream",
     "text": [
      "Oklahoma\n"
     ]
    },
    {
     "name": "stderr",
     "output_type": "stream",
     "text": [
      "\r",
      " 86%|████████▋ | 44/51 [02:31<00:23,  3.37s/it]"
     ]
    },
    {
     "name": "stdout",
     "output_type": "stream",
     "text": [
      "Alaska\n"
     ]
    },
    {
     "name": "stderr",
     "output_type": "stream",
     "text": [
      "\r",
      " 88%|████████▊ | 45/51 [02:34<00:20,  3.38s/it]"
     ]
    },
    {
     "name": "stdout",
     "output_type": "stream",
     "text": [
      "Michigan\n"
     ]
    },
    {
     "name": "stderr",
     "output_type": "stream",
     "text": [
      "\r",
      " 90%|█████████ | 46/51 [02:37<00:17,  3.42s/it]"
     ]
    },
    {
     "name": "stdout",
     "output_type": "stream",
     "text": [
      "New York\n"
     ]
    },
    {
     "name": "stderr",
     "output_type": "stream",
     "text": [
      "\r",
      " 92%|█████████▏| 47/51 [02:41<00:13,  3.43s/it]"
     ]
    },
    {
     "name": "stdout",
     "output_type": "stream",
     "text": [
      "Connecticut\n"
     ]
    },
    {
     "name": "stderr",
     "output_type": "stream",
     "text": [
      "\r",
      " 94%|█████████▍| 48/51 [02:44<00:10,  3.43s/it]"
     ]
    },
    {
     "name": "stdout",
     "output_type": "stream",
     "text": [
      "Hawaii\n"
     ]
    },
    {
     "name": "stderr",
     "output_type": "stream",
     "text": [
      "\r",
      " 96%|█████████▌| 49/51 [02:48<00:06,  3.47s/it]"
     ]
    },
    {
     "name": "stdout",
     "output_type": "stream",
     "text": [
      "North Dakota\n"
     ]
    },
    {
     "name": "stderr",
     "output_type": "stream",
     "text": [
      "\r",
      " 98%|█████████▊| 50/51 [02:51<00:03,  3.29s/it]"
     ]
    },
    {
     "name": "stdout",
     "output_type": "stream",
     "text": [
      "Wisconsin\n"
     ]
    },
    {
     "name": "stderr",
     "output_type": "stream",
     "text": [
      "100%|██████████| 51/51 [02:54<00:00,  3.42s/it]\n"
     ]
    }
   ],
   "source": [
    "for state in tqdm(states):\n",
    "    print(state)\n",
    "    for year in years:\n",
    "        state_rename = state.lower().replace(' ', '-')\n",
    "        path = 'US_datasets/'+str(year)+'-'+state_rename+'-sat-suite-of-assessments-annual-report.pdf'\n",
    "        pdf = pdfplumber.open(path)\n",
    "        get_mean(pdf, mean_df, year, state)\n",
    "#         add_to_dict(year, state, pdf)\n",
    "\n"
   ]
  },
  {
   "cell_type": "code",
   "execution_count": 61,
   "metadata": {},
   "outputs": [],
   "source": [
    "df = pd.DataFrame.from_dict(parsed_df)\n",
    "# df.to_csv('US_data.csv')"
   ]
  },
  {
   "cell_type": "code",
   "execution_count": 65,
   "metadata": {},
   "outputs": [],
   "source": [
    "res = pd.concat([us,df],ignore_index=True)\n",
    "res.to_csv('US_data.csv')"
   ]
  },
  {
   "cell_type": "markdown",
   "metadata": {},
   "source": [
    "Get Mean"
   ]
  },
  {
   "cell_type": "code",
   "execution_count": 89,
   "metadata": {},
   "outputs": [],
   "source": [
    "mdf = pd.DataFrame.from_dict(mean_df)\n",
    "mdf.to_csv('sat_mean.csv')"
   ]
  },
  {
   "cell_type": "code",
   "execution_count": null,
   "metadata": {},
   "outputs": [],
   "source": []
  }
 ],
 "metadata": {
  "kernelspec": {
   "display_name": "Python 3",
   "language": "python",
   "name": "python3"
  },
  "language_info": {
   "codemirror_mode": {
    "name": "ipython",
    "version": 3
   },
   "file_extension": ".py",
   "mimetype": "text/x-python",
   "name": "python",
   "nbconvert_exporter": "python",
   "pygments_lexer": "ipython3",
   "version": "3.8.5"
  }
 },
 "nbformat": 4,
 "nbformat_minor": 4
}
